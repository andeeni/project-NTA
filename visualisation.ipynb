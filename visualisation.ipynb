{
  "nbformat": 4,
  "nbformat_minor": 0,
  "metadata": {
    "colab": {
      "name": "project NTA_visualisation.ipynb",
      "provenance": [],
      "collapsed_sections": []
    },
    "kernelspec": {
      "name": "python3",
      "display_name": "Python 3"
    },
    "language_info": {
      "name": "python"
    }
  },
  "cells": [
    {
      "cell_type": "code",
      "metadata": {
        "colab": {
          "base_uri": "https://localhost:8080/"
        },
        "id": "KhPu2wMQiVFV",
        "outputId": "2231f951-560f-4e4c-87c6-10111c2dbd90"
      },
      "source": [
        "!pip install dvc"
      ],
      "execution_count": null,
      "outputs": [
        {
          "output_type": "stream",
          "name": "stdout",
          "text": [
            "Requirement already satisfied: dvc in /usr/local/lib/python3.7/dist-packages (2.8.3)\n",
            "Requirement already satisfied: dulwich>=0.20.23 in /usr/local/lib/python3.7/dist-packages (from dvc) (0.20.26)\n",
            "Requirement already satisfied: typing-extensions>=3.7.4 in /usr/local/lib/python3.7/dist-packages (from dvc) (3.10.0.2)\n",
            "Requirement already satisfied: diskcache>=5.2.1 in /usr/local/lib/python3.7/dist-packages (from dvc) (5.3.0)\n",
            "Requirement already satisfied: pydot>=1.2.4 in /usr/local/lib/python3.7/dist-packages (from dvc) (1.3.0)\n",
            "Requirement already satisfied: colorama>=0.3.9 in /usr/local/lib/python3.7/dist-packages (from dvc) (0.4.4)\n",
            "Requirement already satisfied: dictdiffer>=0.8.1 in /usr/local/lib/python3.7/dist-packages (from dvc) (0.9.0)\n",
            "Requirement already satisfied: pygit2>=1.5.0 in /usr/local/lib/python3.7/dist-packages (from dvc) (1.7.1)\n",
            "Requirement already satisfied: nanotime>=0.5.2 in /usr/local/lib/python3.7/dist-packages (from dvc) (0.5.2)\n",
            "Requirement already satisfied: pyparsing>=2.4.7 in /usr/local/lib/python3.7/dist-packages (from dvc) (3.0.6)\n",
            "Requirement already satisfied: gitpython>3 in /usr/local/lib/python3.7/dist-packages (from dvc) (3.1.24)\n",
            "Requirement already satisfied: flufl.lock>=5 in /usr/local/lib/python3.7/dist-packages (from dvc) (6.0)\n",
            "Requirement already satisfied: tqdm<5,>=4.45.0 in /usr/local/lib/python3.7/dist-packages (from dvc) (4.62.3)\n",
            "Requirement already satisfied: funcy>=1.14 in /usr/local/lib/python3.7/dist-packages (from dvc) (1.16)\n",
            "Requirement already satisfied: zc.lockfile>=1.2.1 in /usr/local/lib/python3.7/dist-packages (from dvc) (2.0)\n",
            "Requirement already satisfied: voluptuous>=0.11.7 in /usr/local/lib/python3.7/dist-packages (from dvc) (0.12.2)\n",
            "Requirement already satisfied: rich>=10.13.0 in /usr/local/lib/python3.7/dist-packages (from dvc) (10.15.2)\n",
            "Requirement already satisfied: packaging>=19.0 in /usr/local/lib/python3.7/dist-packages (from dvc) (21.3)\n",
            "Requirement already satisfied: ply>=3.9 in /usr/local/lib/python3.7/dist-packages (from dvc) (3.11)\n",
            "Requirement already satisfied: pygtrie>=2.3.2 in /usr/local/lib/python3.7/dist-packages (from dvc) (2.4.2)\n",
            "Requirement already satisfied: dpath<3,>=2.0.2 in /usr/local/lib/python3.7/dist-packages (from dvc) (2.0.5)\n",
            "Requirement already satisfied: fsspec[http]>=2021.10.1 in /usr/local/lib/python3.7/dist-packages (from dvc) (2021.11.1)\n",
            "Requirement already satisfied: toml>=0.10.1 in /usr/local/lib/python3.7/dist-packages (from dvc) (0.10.2)\n",
            "Requirement already satisfied: python-benedict>=0.24.2 in /usr/local/lib/python3.7/dist-packages (from dvc) (0.24.3)\n",
            "Requirement already satisfied: psutil>=5.8.0 in /usr/local/lib/python3.7/dist-packages (from dvc) (5.8.0)\n",
            "Requirement already satisfied: tabulate>=0.8.7 in /usr/local/lib/python3.7/dist-packages (from dvc) (0.8.9)\n",
            "Requirement already satisfied: shortuuid>=0.5.0 in /usr/local/lib/python3.7/dist-packages (from dvc) (1.0.8)\n",
            "Requirement already satisfied: grandalf==0.6 in /usr/local/lib/python3.7/dist-packages (from dvc) (0.6)\n",
            "Requirement already satisfied: importlib-resources>=5.2.2 in /usr/local/lib/python3.7/dist-packages (from dvc) (5.4.0)\n",
            "Requirement already satisfied: shtab<2,>=1.3.4 in /usr/local/lib/python3.7/dist-packages (from dvc) (1.5.2)\n",
            "Requirement already satisfied: requests>=2.22.0 in /usr/local/lib/python3.7/dist-packages (from dvc) (2.23.0)\n",
            "Requirement already satisfied: importlib-metadata>=1.4 in /usr/local/lib/python3.7/dist-packages (from dvc) (4.8.2)\n",
            "Requirement already satisfied: pyasn1>=0.4.1 in /usr/local/lib/python3.7/dist-packages (from dvc) (0.4.8)\n",
            "Requirement already satisfied: ruamel.yaml>=0.17.11 in /usr/local/lib/python3.7/dist-packages (from dvc) (0.17.17)\n",
            "Requirement already satisfied: aiohttp-retry>=2.4.5 in /usr/local/lib/python3.7/dist-packages (from dvc) (2.4.6)\n",
            "Requirement already satisfied: networkx>=2.5 in /usr/local/lib/python3.7/dist-packages (from dvc) (2.6.3)\n",
            "Requirement already satisfied: distro>=1.3.0 in /usr/local/lib/python3.7/dist-packages (from dvc) (1.6.0)\n",
            "Requirement already satisfied: appdirs>=1.4.3 in /usr/local/lib/python3.7/dist-packages (from dvc) (1.4.4)\n",
            "Requirement already satisfied: flatten-dict<1,>=0.4.1 in /usr/local/lib/python3.7/dist-packages (from dvc) (0.4.2)\n",
            "Requirement already satisfied: configobj>=5.0.6 in /usr/local/lib/python3.7/dist-packages (from dvc) (5.0.6)\n",
            "Requirement already satisfied: pathspec<0.10.0,>=0.9.0 in /usr/local/lib/python3.7/dist-packages (from dvc) (0.9.0)\n",
            "Requirement already satisfied: future in /usr/local/lib/python3.7/dist-packages (from grandalf==0.6->dvc) (0.16.0)\n",
            "Requirement already satisfied: aiohttp in /usr/local/lib/python3.7/dist-packages (from aiohttp-retry>=2.4.5->dvc) (3.8.1)\n",
            "Requirement already satisfied: six in /usr/local/lib/python3.7/dist-packages (from configobj>=5.0.6->dvc) (1.15.0)\n",
            "Requirement already satisfied: urllib3>=1.24.1 in /usr/local/lib/python3.7/dist-packages (from dulwich>=0.20.23->dvc) (1.24.3)\n",
            "Requirement already satisfied: certifi in /usr/local/lib/python3.7/dist-packages (from dulwich>=0.20.23->dvc) (2021.10.8)\n",
            "Requirement already satisfied: atpublic in /usr/local/lib/python3.7/dist-packages (from flufl.lock>=5->dvc) (2.3)\n",
            "Requirement already satisfied: gitdb<5,>=4.0.1 in /usr/local/lib/python3.7/dist-packages (from gitpython>3->dvc) (4.0.9)\n",
            "Requirement already satisfied: smmap<6,>=3.0.1 in /usr/local/lib/python3.7/dist-packages (from gitdb<5,>=4.0.1->gitpython>3->dvc) (5.0.0)\n",
            "Requirement already satisfied: zipp>=0.5 in /usr/local/lib/python3.7/dist-packages (from importlib-metadata>=1.4->dvc) (3.6.0)\n",
            "Requirement already satisfied: cffi>=1.4.0 in /usr/local/lib/python3.7/dist-packages (from pygit2>=1.5.0->dvc) (1.15.0)\n",
            "Requirement already satisfied: cached-property in /usr/local/lib/python3.7/dist-packages (from pygit2>=1.5.0->dvc) (1.5.2)\n",
            "Requirement already satisfied: pycparser in /usr/local/lib/python3.7/dist-packages (from cffi>=1.4.0->pygit2>=1.5.0->dvc) (2.21)\n",
            "Requirement already satisfied: python-dateutil in /usr/local/lib/python3.7/dist-packages (from python-benedict>=0.24.2->dvc) (2.8.2)\n",
            "Requirement already satisfied: xmltodict in /usr/local/lib/python3.7/dist-packages (from python-benedict>=0.24.2->dvc) (0.12.0)\n",
            "Requirement already satisfied: ftfy in /usr/local/lib/python3.7/dist-packages (from python-benedict>=0.24.2->dvc) (6.0.3)\n",
            "Requirement already satisfied: python-slugify in /usr/local/lib/python3.7/dist-packages (from python-benedict>=0.24.2->dvc) (5.0.2)\n",
            "Requirement already satisfied: mailchecker in /usr/local/lib/python3.7/dist-packages (from python-benedict>=0.24.2->dvc) (4.1.1)\n",
            "Requirement already satisfied: pyyaml in /usr/local/lib/python3.7/dist-packages (from python-benedict>=0.24.2->dvc) (3.13)\n",
            "Requirement already satisfied: phonenumbers in /usr/local/lib/python3.7/dist-packages (from python-benedict>=0.24.2->dvc) (8.12.38)\n",
            "Requirement already satisfied: python-fsutil in /usr/local/lib/python3.7/dist-packages (from python-benedict>=0.24.2->dvc) (0.5.0)\n",
            "Requirement already satisfied: idna<3,>=2.5 in /usr/local/lib/python3.7/dist-packages (from requests>=2.22.0->dvc) (2.10)\n",
            "Requirement already satisfied: chardet<4,>=3.0.2 in /usr/local/lib/python3.7/dist-packages (from requests>=2.22.0->dvc) (3.0.4)\n",
            "Requirement already satisfied: commonmark<0.10.0,>=0.9.0 in /usr/local/lib/python3.7/dist-packages (from rich>=10.13.0->dvc) (0.9.1)\n",
            "Requirement already satisfied: pygments<3.0.0,>=2.6.0 in /usr/local/lib/python3.7/dist-packages (from rich>=10.13.0->dvc) (2.6.1)\n",
            "Requirement already satisfied: ruamel.yaml.clib>=0.1.2 in /usr/local/lib/python3.7/dist-packages (from ruamel.yaml>=0.17.11->dvc) (0.2.6)\n",
            "Requirement already satisfied: setuptools in /usr/local/lib/python3.7/dist-packages (from zc.lockfile>=1.2.1->dvc) (57.4.0)\n",
            "Requirement already satisfied: attrs>=17.3.0 in /usr/local/lib/python3.7/dist-packages (from aiohttp->aiohttp-retry>=2.4.5->dvc) (21.2.0)\n",
            "Requirement already satisfied: async-timeout<5.0,>=4.0.0a3 in /usr/local/lib/python3.7/dist-packages (from aiohttp->aiohttp-retry>=2.4.5->dvc) (4.0.1)\n",
            "Requirement already satisfied: asynctest==0.13.0 in /usr/local/lib/python3.7/dist-packages (from aiohttp->aiohttp-retry>=2.4.5->dvc) (0.13.0)\n",
            "Requirement already satisfied: charset-normalizer<3.0,>=2.0 in /usr/local/lib/python3.7/dist-packages (from aiohttp->aiohttp-retry>=2.4.5->dvc) (2.0.8)\n",
            "Requirement already satisfied: yarl<2.0,>=1.0 in /usr/local/lib/python3.7/dist-packages (from aiohttp->aiohttp-retry>=2.4.5->dvc) (1.7.2)\n",
            "Requirement already satisfied: multidict<7.0,>=4.5 in /usr/local/lib/python3.7/dist-packages (from aiohttp->aiohttp-retry>=2.4.5->dvc) (5.2.0)\n",
            "Requirement already satisfied: frozenlist>=1.1.1 in /usr/local/lib/python3.7/dist-packages (from aiohttp->aiohttp-retry>=2.4.5->dvc) (1.2.0)\n",
            "Requirement already satisfied: aiosignal>=1.1.2 in /usr/local/lib/python3.7/dist-packages (from aiohttp->aiohttp-retry>=2.4.5->dvc) (1.2.0)\n",
            "Requirement already satisfied: wcwidth in /usr/local/lib/python3.7/dist-packages (from ftfy->python-benedict>=0.24.2->dvc) (0.2.5)\n",
            "Requirement already satisfied: text-unidecode>=1.3 in /usr/local/lib/python3.7/dist-packages (from python-slugify->python-benedict>=0.24.2->dvc) (1.3)\n"
          ]
        }
      ]
    },
    {
      "cell_type": "code",
      "metadata": {
        "colab": {
          "base_uri": "https://localhost:8080/"
        },
        "id": "_acBQoF0fYKu",
        "outputId": "c5bc1b7e-4df9-4ccc-94a0-9fb5e9530442"
      },
      "source": [
        "!dvc get https://github.com/iterative/aita_dataset aita_clean.csv"
      ],
      "execution_count": null,
      "outputs": [
        {
          "output_type": "stream",
          "name": "stdout",
          "text": [
            "\u001b[0m"
          ]
        }
      ]
    },
    {
      "cell_type": "code",
      "metadata": {
        "colab": {
          "base_uri": "https://localhost:8080/",
          "height": 293
        },
        "id": "rrfeixL9jThQ",
        "outputId": "ee89739a-ce7d-44c7-a661-d6d6d8fff9a2"
      },
      "source": [
        "import pandas as pd\n",
        "\n",
        "df = pd.read_csv(\"aita_clean.csv\")\n",
        "df.tail()"
      ],
      "execution_count": null,
      "outputs": [
        {
          "output_type": "execute_result",
          "data": {
            "text/html": [
              "<div>\n",
              "<style scoped>\n",
              "    .dataframe tbody tr th:only-of-type {\n",
              "        vertical-align: middle;\n",
              "    }\n",
              "\n",
              "    .dataframe tbody tr th {\n",
              "        vertical-align: top;\n",
              "    }\n",
              "\n",
              "    .dataframe thead th {\n",
              "        text-align: right;\n",
              "    }\n",
              "</style>\n",
              "<table border=\"1\" class=\"dataframe\">\n",
              "  <thead>\n",
              "    <tr style=\"text-align: right;\">\n",
              "      <th></th>\n",
              "      <th>id</th>\n",
              "      <th>timestamp</th>\n",
              "      <th>title</th>\n",
              "      <th>body</th>\n",
              "      <th>edited</th>\n",
              "      <th>verdict</th>\n",
              "      <th>score</th>\n",
              "      <th>num_comments</th>\n",
              "      <th>is_asshole</th>\n",
              "    </tr>\n",
              "  </thead>\n",
              "  <tbody>\n",
              "    <tr>\n",
              "      <th>97623</th>\n",
              "      <td>ex94w5</td>\n",
              "      <td>1.580577e+09</td>\n",
              "      <td>AITA for telling my sister she is being a spoi...</td>\n",
              "      <td>My sister(17F) and I(15M) are white kids born ...</td>\n",
              "      <td>1580585457.0</td>\n",
              "      <td>not the asshole</td>\n",
              "      <td>16</td>\n",
              "      <td>23.0</td>\n",
              "      <td>0</td>\n",
              "    </tr>\n",
              "    <tr>\n",
              "      <th>97624</th>\n",
              "      <td>ex970f</td>\n",
              "      <td>1.580577e+09</td>\n",
              "      <td>AITA for telling my husband to f* off after he...</td>\n",
              "      <td>My husband (28M) and I (32F) are married for a...</td>\n",
              "      <td>1580584475.0</td>\n",
              "      <td>not the asshole</td>\n",
              "      <td>1373</td>\n",
              "      <td>304.0</td>\n",
              "      <td>0</td>\n",
              "    </tr>\n",
              "    <tr>\n",
              "      <th>97625</th>\n",
              "      <td>ex9dwo</td>\n",
              "      <td>1.580578e+09</td>\n",
              "      <td>AITA for attempting to keep my students out of...</td>\n",
              "      <td>Upfront apologies for formatting. I’m also try...</td>\n",
              "      <td>False</td>\n",
              "      <td>not the asshole</td>\n",
              "      <td>4</td>\n",
              "      <td>15.0</td>\n",
              "      <td>0</td>\n",
              "    </tr>\n",
              "    <tr>\n",
              "      <th>97626</th>\n",
              "      <td>ex9egs</td>\n",
              "      <td>1.580578e+09</td>\n",
              "      <td>WIBTA if I left my brothers fate up to the state?</td>\n",
              "      <td>A little back story my mom is a drug addict an...</td>\n",
              "      <td>False</td>\n",
              "      <td>not the asshole</td>\n",
              "      <td>280</td>\n",
              "      <td>140.0</td>\n",
              "      <td>0</td>\n",
              "    </tr>\n",
              "    <tr>\n",
              "      <th>97627</th>\n",
              "      <td>ex9g78</td>\n",
              "      <td>1.580578e+09</td>\n",
              "      <td>WIBTA for rocking the boat at work because my ...</td>\n",
              "      <td>I’m a (23F) apprentice in the trades. I work o...</td>\n",
              "      <td>False</td>\n",
              "      <td>not the asshole</td>\n",
              "      <td>5</td>\n",
              "      <td>21.0</td>\n",
              "      <td>0</td>\n",
              "    </tr>\n",
              "  </tbody>\n",
              "</table>\n",
              "</div>"
            ],
            "text/plain": [
              "           id     timestamp  ... num_comments is_asshole\n",
              "97623  ex94w5  1.580577e+09  ...         23.0          0\n",
              "97624  ex970f  1.580577e+09  ...        304.0          0\n",
              "97625  ex9dwo  1.580578e+09  ...         15.0          0\n",
              "97626  ex9egs  1.580578e+09  ...        140.0          0\n",
              "97627  ex9g78  1.580578e+09  ...         21.0          0\n",
              "\n",
              "[5 rows x 9 columns]"
            ]
          },
          "metadata": {},
          "execution_count": 3
        }
      ]
    },
    {
      "cell_type": "code",
      "metadata": {
        "id": "1_foU963HekY"
      },
      "source": [
        "# filtering posts with scores >= 10\n",
        "df_filtered = df[df['score'] >= 10]\n",
        "df_filtered.to_csv('aita_filtered.csv')"
      ],
      "execution_count": null,
      "outputs": []
    },
    {
      "cell_type": "code",
      "metadata": {
        "colab": {
          "base_uri": "https://localhost:8080/",
          "height": 310
        },
        "id": "vnyDWt-uthXh",
        "outputId": "d838ea4f-5f94-44cf-adfb-14a36f57fbaa"
      },
      "source": [
        "df = pd.read_csv(\"aita_filtered.csv\")\n",
        "df.tail()"
      ],
      "execution_count": null,
      "outputs": [
        {
          "output_type": "execute_result",
          "data": {
            "text/html": [
              "<div>\n",
              "<style scoped>\n",
              "    .dataframe tbody tr th:only-of-type {\n",
              "        vertical-align: middle;\n",
              "    }\n",
              "\n",
              "    .dataframe tbody tr th {\n",
              "        vertical-align: top;\n",
              "    }\n",
              "\n",
              "    .dataframe thead th {\n",
              "        text-align: right;\n",
              "    }\n",
              "</style>\n",
              "<table border=\"1\" class=\"dataframe\">\n",
              "  <thead>\n",
              "    <tr style=\"text-align: right;\">\n",
              "      <th></th>\n",
              "      <th>Unnamed: 0</th>\n",
              "      <th>id</th>\n",
              "      <th>timestamp</th>\n",
              "      <th>title</th>\n",
              "      <th>body</th>\n",
              "      <th>edited</th>\n",
              "      <th>verdict</th>\n",
              "      <th>score</th>\n",
              "      <th>num_comments</th>\n",
              "      <th>is_asshole</th>\n",
              "    </tr>\n",
              "  </thead>\n",
              "  <tbody>\n",
              "    <tr>\n",
              "      <th>48848</th>\n",
              "      <td>97620</td>\n",
              "      <td>ex8v2t</td>\n",
              "      <td>1.580576e+09</td>\n",
              "      <td>AITA for wanting to go out on my birthday</td>\n",
              "      <td>I recently lost my legs so I haven't been out ...</td>\n",
              "      <td>False</td>\n",
              "      <td>not the asshole</td>\n",
              "      <td>11</td>\n",
              "      <td>17.0</td>\n",
              "      <td>0</td>\n",
              "    </tr>\n",
              "    <tr>\n",
              "      <th>48849</th>\n",
              "      <td>97621</td>\n",
              "      <td>ex8ys3</td>\n",
              "      <td>1.580576e+09</td>\n",
              "      <td>AITA for yelling at my daughter?</td>\n",
              "      <td>\\nI(46,M) have been helping my(17,F) daughter ...</td>\n",
              "      <td>False</td>\n",
              "      <td>asshole</td>\n",
              "      <td>67</td>\n",
              "      <td>54.0</td>\n",
              "      <td>1</td>\n",
              "    </tr>\n",
              "    <tr>\n",
              "      <th>48850</th>\n",
              "      <td>97623</td>\n",
              "      <td>ex94w5</td>\n",
              "      <td>1.580577e+09</td>\n",
              "      <td>AITA for telling my sister she is being a spoi...</td>\n",
              "      <td>My sister(17F) and I(15M) are white kids born ...</td>\n",
              "      <td>1580585457.0</td>\n",
              "      <td>not the asshole</td>\n",
              "      <td>16</td>\n",
              "      <td>23.0</td>\n",
              "      <td>0</td>\n",
              "    </tr>\n",
              "    <tr>\n",
              "      <th>48851</th>\n",
              "      <td>97624</td>\n",
              "      <td>ex970f</td>\n",
              "      <td>1.580577e+09</td>\n",
              "      <td>AITA for telling my husband to f* off after he...</td>\n",
              "      <td>My husband (28M) and I (32F) are married for a...</td>\n",
              "      <td>1580584475.0</td>\n",
              "      <td>not the asshole</td>\n",
              "      <td>1373</td>\n",
              "      <td>304.0</td>\n",
              "      <td>0</td>\n",
              "    </tr>\n",
              "    <tr>\n",
              "      <th>48852</th>\n",
              "      <td>97626</td>\n",
              "      <td>ex9egs</td>\n",
              "      <td>1.580578e+09</td>\n",
              "      <td>WIBTA if I left my brothers fate up to the state?</td>\n",
              "      <td>A little back story my mom is a drug addict an...</td>\n",
              "      <td>False</td>\n",
              "      <td>not the asshole</td>\n",
              "      <td>280</td>\n",
              "      <td>140.0</td>\n",
              "      <td>0</td>\n",
              "    </tr>\n",
              "  </tbody>\n",
              "</table>\n",
              "</div>"
            ],
            "text/plain": [
              "       Unnamed: 0      id     timestamp  ... score num_comments is_asshole\n",
              "48848       97620  ex8v2t  1.580576e+09  ...    11         17.0          0\n",
              "48849       97621  ex8ys3  1.580576e+09  ...    67         54.0          1\n",
              "48850       97623  ex94w5  1.580577e+09  ...    16         23.0          0\n",
              "48851       97624  ex970f  1.580577e+09  ...  1373        304.0          0\n",
              "48852       97626  ex9egs  1.580578e+09  ...   280        140.0          0\n",
              "\n",
              "[5 rows x 10 columns]"
            ]
          },
          "metadata": {},
          "execution_count": 5
        }
      ]
    },
    {
      "cell_type": "code",
      "metadata": {
        "id": "z7gwi_Uf2GWp"
      },
      "source": [
        "# combining title and body fields\n",
        "df['text'] = df[\"title\"] + df[\"body\"].fillna(\"\")"
      ],
      "execution_count": null,
      "outputs": []
    },
    {
      "cell_type": "markdown",
      "metadata": {
        "id": "QazdDJeG31cr"
      },
      "source": [
        "# CLASS FREQUENCIES"
      ]
    },
    {
      "cell_type": "code",
      "metadata": {
        "colab": {
          "base_uri": "https://localhost:8080/",
          "height": 175
        },
        "id": "Cojg2G6rlMej",
        "outputId": "b24ceb3a-3495-4ce9-97b7-b7165a30ed08"
      },
      "source": [
        "counts = df['verdict'].value_counts()\n",
        "verdict = counts.index.to_list()\n",
        "freq = counts.to_list()\n",
        "freq_df = pd.DataFrame(list(zip(verdict, freq)), \n",
        "               columns =['Verdict', 'Frequency']) \n",
        "freq_df['Verdict'] = freq_df['Verdict'].str.title()\n",
        "freq_df.head()"
      ],
      "execution_count": null,
      "outputs": [
        {
          "output_type": "execute_result",
          "data": {
            "text/html": [
              "<div>\n",
              "<style scoped>\n",
              "    .dataframe tbody tr th:only-of-type {\n",
              "        vertical-align: middle;\n",
              "    }\n",
              "\n",
              "    .dataframe tbody tr th {\n",
              "        vertical-align: top;\n",
              "    }\n",
              "\n",
              "    .dataframe thead th {\n",
              "        text-align: right;\n",
              "    }\n",
              "</style>\n",
              "<table border=\"1\" class=\"dataframe\">\n",
              "  <thead>\n",
              "    <tr style=\"text-align: right;\">\n",
              "      <th></th>\n",
              "      <th>Verdict</th>\n",
              "      <th>Frequency</th>\n",
              "    </tr>\n",
              "  </thead>\n",
              "  <tbody>\n",
              "    <tr>\n",
              "      <th>0</th>\n",
              "      <td>Not The Asshole</td>\n",
              "      <td>30406</td>\n",
              "    </tr>\n",
              "    <tr>\n",
              "      <th>1</th>\n",
              "      <td>Asshole</td>\n",
              "      <td>10928</td>\n",
              "    </tr>\n",
              "    <tr>\n",
              "      <th>2</th>\n",
              "      <td>No Assholes Here</td>\n",
              "      <td>5090</td>\n",
              "    </tr>\n",
              "    <tr>\n",
              "      <th>3</th>\n",
              "      <td>Everyone Sucks</td>\n",
              "      <td>2429</td>\n",
              "    </tr>\n",
              "  </tbody>\n",
              "</table>\n",
              "</div>"
            ],
            "text/plain": [
              "            Verdict  Frequency\n",
              "0   Not The Asshole      30406\n",
              "1           Asshole      10928\n",
              "2  No Assholes Here       5090\n",
              "3    Everyone Sucks       2429"
            ]
          },
          "metadata": {},
          "execution_count": 12
        }
      ]
    },
    {
      "cell_type": "code",
      "metadata": {
        "colab": {
          "base_uri": "https://localhost:8080/",
          "height": 330
        },
        "id": "t-HE0ro7lYBZ",
        "outputId": "caa21704-c733-4810-b05b-9542bc34f244"
      },
      "source": [
        "%matplotlib inline\n",
        "import matplotlib.pyplot as plt\n",
        "import numpy as np\n",
        "\n",
        "labels = freq_df.Verdict\n",
        "\n",
        "index = np.arange(len(labels)) # Keep a numeric index for the x-axis lables\n",
        "fig, ax = plt.subplots()\n",
        "\n",
        "bar_width = 0.4\n",
        "opacity = 0.7\n",
        "\n",
        "rects = ax.bar(index, freq_df.Frequency, bar_width,\n",
        "                alpha=opacity, color='tab:orange')\n",
        "\n",
        "# Make the style nice and add labels.\n",
        "ax.set_xlabel('Verdict')\n",
        "ax.set_ylabel('Frequency')\n",
        "ax.set_title('Frequency per Verdict')\n",
        "\n",
        "ax.set_xticks(index )\n",
        "ax.set_xticklabels(labels)\n",
        "ax.legend()"
      ],
      "execution_count": null,
      "outputs": [
        {
          "output_type": "stream",
          "name": "stderr",
          "text": [
            "No handles with labels found to put in legend.\n"
          ]
        },
        {
          "output_type": "execute_result",
          "data": {
            "text/plain": [
              "<matplotlib.legend.Legend at 0x7f67aa9bcad0>"
            ]
          },
          "metadata": {},
          "execution_count": 13
        },
        {
          "output_type": "display_data",
          "data": {
            "image/png": "[encoded data removed]",
            "text/plain": [
              "<Figure size 432x288 with 1 Axes>"
            ]
          },
          "metadata": {
            "needs_background": "light"
          }
        }
      ]
    },
    {
      "cell_type": "code",
      "metadata": {
        "colab": {
          "base_uri": "https://localhost:8080/",
          "height": 279
        },
        "id": "aZ7dV6xN00NP",
        "outputId": "ee9ff50d-0551-4515-ef1b-bacc8630a92d"
      },
      "source": [
        "# Visualise your data in a few useful graphs (up to you to think about what would be useful)\n",
        "\n",
        "import seaborn as sns\n",
        "#breakdown by class\n",
        "sns.countplot(x=\"verdict\", data=df, palette=\"muted\", dodge=False);\n",
        "h,l = ax.get_legend_handles_labels()\n",
        "labels=[\"Not The A-hole\", \"A-hole\", \"No A-holes Here\", \"Everyone Sucks Here\"]\n",
        "ax.legend(h,labels,title=\"Verdict\", loc=\"upper right\") \n",
        "\n",
        "plt.show()"
      ],
      "execution_count": null,
      "outputs": [
        {
          "output_type": "display_data",
          "data": {
            "image/png": "[encoded data removed]",
            "text/plain": [
              "<Figure size 432x288 with 1 Axes>"
            ]
          },
          "metadata": {
            "needs_background": "light"
          }
        }
      ]
    },
    {
      "cell_type": "markdown",
      "metadata": {
        "id": "grPy_3IB3-2u"
      },
      "source": [
        "# TF-IDF VECTORIZER WITH CHI2\n",
        "To determine the most informative words in the posts with respect to the class attribute"
      ]
    },
    {
      "cell_type": "code",
      "metadata": {
        "id": "4Tf0Llf83Lp6"
      },
      "source": [
        "# FEATURE SELECTION\n",
        "from sklearn.feature_extraction.text import TfidfVectorizer\n",
        "from sklearn.feature_selection import chi2\n",
        "\n",
        "vec = TfidfVectorizer(ngram_range=(1,1),max_features=10000)\n",
        "vec_text = vec.fit_transform(df.text)\n",
        "chi2_score = chi2(vec_text, df.is_asshole)[0]"
      ],
      "execution_count": null,
      "outputs": []
    },
    {
      "cell_type": "code",
      "metadata": {
        "colab": {
          "base_uri": "https://localhost:8080/"
        },
        "id": "cQyzFAmX4YZu",
        "outputId": "9f233f0a-35ac-459a-8579-07d1555f5146"
      },
      "source": [
        "# getting words with top chi2 scores\n",
        "word_scores = zip(vec.get_feature_names_out(), chi2_score)\n",
        "word_chi2 = sorted(word_scores, key = lambda x:x[1])\n",
        "top10 = word_chi2[-10:]\n",
        "print(top10) # get words with tops 10 chi2 scores"
      ],
      "execution_count": null,
      "outputs": [
        {
          "output_type": "stream",
          "name": "stdout",
          "text": [
            "[('she', 9.100005475747716), ('parents', 9.717077248619272), ('mum', 10.930872772653233), ('daughter', 11.279285639857598), ('girlfriend', 12.552855069077893), ('my', 16.789328599251206), ('dad', 17.64842717373996), ('mother', 19.28423821195917), ('wife', 30.731215585329117), ('mom', 31.26898509023862)]\n"
          ]
        }
      ]
    },
    {
      "cell_type": "code",
      "metadata": {
        "id": "mnERl0FH76X5"
      },
      "source": [
        "# Calculate log odds for each\n",
        "import numpy as np\n",
        "\n",
        "# filtering rows which have certain word\n",
        "df['has_father'] = df['text'].str.contains(\"father|dad\", case=False)\n",
        "df['has_mother'] = df['text'].str.contains(\"mother|mum|mom\", case=False)\n",
        "df['has_son'] = df['text'].str.contains(\"son\", case=False)\n",
        "df['has_daughter'] = df['text'].str.contains(\"daughter\", case=False)\n",
        "df['has_husband'] = df['text'].str.contains(\"husband|boyfriend|bf\", case=False)\n",
        "df['has_wife'] = df['text'].str.contains(\"wife|girlfriend|gf\", case=False)\n",
        "\n",
        "# filtering rows which are asshole/not asshole\n",
        "yes_asshole = df[ df['is_asshole']==1 ]\n",
        "not_asshole = df[ df['is_asshole']==0 ]\n",
        "\n",
        "# getting log odds\n",
        "logOdds_father = np.log2( np.mean(yes_asshole['has_father']) / np.mean(not_asshole['has_father']) )\n",
        "logOdds_mother = np.log2( np.mean(yes_asshole['has_mother']) / np.mean(not_asshole['has_mother']) )\n",
        "logOdds_son = np.log2( np.mean(yes_asshole['has_son']) / np.mean(not_asshole['has_son']) )\n",
        "logOdds_daughter = np.log2( np.mean(yes_asshole['has_daughter']) / np.mean(not_asshole['has_daughter']) )\n",
        "logOdds_husband = np.log2( np.mean(yes_asshole['has_husband']) / np.mean(not_asshole['has_husband']) )\n",
        "logOdds_wife = np.log2( np.mean(yes_asshole['has_wife']) / np.mean(not_asshole['has_wife']) )\n",
        "\n",
        "term = [\"Dad\", \"Mum\", \"Son\", \"Daughter\", \"Husband/BF\", \"Wife/GF\"]\n",
        "logOdds = [logOdds_father, logOdds_mother, logOdds_son, logOdds_daughter, logOdds_husband, logOdds_wife]\n",
        "logOdds_df = pd.DataFrame(zip(term, logOdds), columns=[\"word\",\"logOdds\"])"
      ],
      "execution_count": 16,
      "outputs": []
    },
    {
      "cell_type": "code",
      "metadata": {
        "colab": {
          "base_uri": "https://localhost:8080/",
          "height": 314
        },
        "id": "Qjwx2GyH8I4j",
        "outputId": "c2cf1606-0db7-45b7-8314-7e8ab967411e"
      },
      "source": [
        "%matplotlib inline\n",
        "import matplotlib.pyplot as plt\n",
        "import numpy as np\n",
        "\n",
        "term = logOdds_df.word\n",
        "logOdds = logOdds_df.logOdds\n",
        "\n",
        "fig, ax = plt.subplots()\n",
        "plt.rcdefaults()\n",
        "\n",
        "y_pos = np.arange(len(term))\n",
        "\n",
        "threshold = 0\n",
        "above_threshold = np.maximum(logOdds - threshold, 0)\n",
        "below_threshold = np.minimum(logOdds, threshold)\n",
        "\n",
        "ax.barh(y_pos, below_threshold,  color=\"tab:green\")\n",
        "ax.barh(y_pos, above_threshold, color=\"tab:red\")\n",
        "ax.set_yticks(y_pos)\n",
        "ax.set_yticklabels(term)\n",
        "ax.invert_yaxis()  # labels read top-to-bottom\n",
        "ax.set_xlabel('Log Odds')\n",
        "ax.set_ylabel('Mentioned term')\n",
        "ax.set_title('Log Odds that verdict is `A-hole` per mentioned word')\n",
        "\n",
        "# horizontal line indicating the threshold\n",
        "plt.axvline(x=0, color='k', linestyle='--')"
      ],
      "execution_count": 17,
      "outputs": [
        {
          "output_type": "execute_result",
          "data": {
            "text/plain": [
              "<matplotlib.lines.Line2D at 0x7f67a9bf3f10>"
            ]
          },
          "metadata": {},
          "execution_count": 17
        },
        {
          "output_type": "display_data",
          "data": {
            "image/png": "[encoded data removed]",
            "text/plain": [
              "<Figure size 432x288 with 1 Axes>"
            ]
          },
          "metadata": {
            "needs_background": "light"
          }
        }
      ]
    }
  ]
}